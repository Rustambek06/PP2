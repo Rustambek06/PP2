{
 "cells": [
  {
   "cell_type": "code",
   "execution_count": 1,
   "metadata": {},
   "outputs": [
    {
     "name": "stdout",
     "output_type": "stream",
     "text": [
      "425.2428465\n"
     ]
    }
   ],
   "source": [
    "def convert(grams):\n",
    "    ounces = 28.3495231 * grams\n",
    "    return ounces\n",
    "\n",
    "grams = int(input(\"grams to ounces: \"))\n",
    "res = convert(grams)\n",
    "print(res)"
   ]
  },
  {
   "cell_type": "code",
   "execution_count": 5,
   "metadata": {},
   "outputs": [
    {
     "name": "stdout",
     "output_type": "stream",
     "text": [
      "15.555555555555557\n"
     ]
    }
   ],
   "source": [
    "def convert(F):\n",
    "    C = (5 / 9) * (F - 32)\n",
    "    return C\n",
    "\n",
    "F = int(input(\"F: \"))\n",
    "res = convert(F)\n",
    "print(res)"
   ]
  },
  {
   "cell_type": "code",
   "execution_count": 9,
   "metadata": {},
   "outputs": [
    {
     "name": "stdout",
     "output_type": "stream",
     "text": [
      "rabbits: 12, chickens: 23\n"
     ]
    }
   ],
   "source": [
    "import math\n",
    "def solve(numheads, numlegs):\n",
    "    # x + y = numheads\n",
    "    # 4x + 2y = numlegs\n",
    "    # x = numheads - y\n",
    "    # 4 * (numheads - y) + 2y = numlegs\n",
    "    # 4 * numheads + 2y = numlegs\n",
    "    y = abs(numlegs - 4 * numheads) / 2\n",
    "    x = numheads - y\n",
    "    print(f\"rabbits: {int(x)}, chickens: {int(y)}\")\n",
    "\n",
    "solve(35, 94)"
   ]
  },
  {
   "cell_type": "code",
   "execution_count": null,
   "metadata": {},
   "outputs": [
    {
     "name": "stdout",
     "output_type": "stream",
     "text": [
      "Prime numbers: [2, 3, 5, 7]\n"
     ]
    }
   ],
   "source": [
    "def filter_prime(n):\n",
    "    if n <= 1:\n",
    "        return False\n",
    "    for i in range(2, int(n**0.5) + 1):\n",
    "        if n % i == 0:\n",
    "            return False\n",
    "    return True\n",
    "\n",
    "numbers = [int(x) for x in input().split()]\n",
    "\n",
    "prime_numbers = list(filter(lambda x: filter_prime(x), numbers))\n",
    "\n",
    "print(\"Prime numbers:\", prime_numbers)"
   ]
  },
  {
   "cell_type": "code",
   "execution_count": 14,
   "metadata": {},
   "outputs": [
    {
     "name": "stdout",
     "output_type": "stream",
     "text": [
      "123\n",
      "132\n",
      "213\n",
      "231\n",
      "312\n",
      "321\n"
     ]
    }
   ],
   "source": [
    "from itertools import permutations\n",
    "\n",
    "def perm(s):\n",
    "    perm_list = permutations(s)\n",
    "    for perm in perm_list:\n",
    "        print(''.join(perm))\n",
    "\n",
    "s = input(\"Enter a string: \")\n",
    "perm(s)\n"
   ]
  },
  {
   "cell_type": "code",
   "execution_count": 21,
   "metadata": {},
   "outputs": [
    {
     "name": "stdout",
     "output_type": "stream",
     "text": [
      "3\n",
      "ready are we "
     ]
    }
   ],
   "source": [
    "s = input()\n",
    "l = s.split(' ')\n",
    "for i in range(len(l) - 1, -1, -1):\n",
    "    print(l[i], end=' ')"
   ]
  },
  {
   "cell_type": "code",
   "execution_count": 23,
   "metadata": {},
   "outputs": [
    {
     "name": "stdout",
     "output_type": "stream",
     "text": [
      "True\n",
      "False\n",
      "False\n"
     ]
    }
   ],
   "source": [
    "def has_33(nums):\n",
    "    for i in range(0, len(nums)):\n",
    "        if (i + 1 != len(nums)):\n",
    "            if (nums[i] == 3 and nums[i + 1] == 3):\n",
    "                print(True)\n",
    "                return\n",
    "    print(False)\n",
    "\n",
    "has_33([1, 3, 3]) \n",
    "has_33([1, 3, 1, 3])\n",
    "has_33([3, 1, 3])"
   ]
  },
  {
   "cell_type": "code",
   "execution_count": 1,
   "metadata": {},
   "outputs": [
    {
     "name": "stdout",
     "output_type": "stream",
     "text": [
      "True\n",
      "False\n",
      "False\n"
     ]
    }
   ],
   "source": [
    "def spy_game(nums):\n",
    "    for i in range(0, len(nums)):\n",
    "        if (i + 1 != len(nums) and i + 1 != len(nums)):\n",
    "            if (nums[i] == 0 and nums[i + 1] == 0 and nums[i + 2] == 7):\n",
    "                print(True)\n",
    "                return\n",
    "    print(False)\n",
    "\n",
    "spy_game([1,2,4,0,0,7,5]) \n",
    "spy_game([1,0,2,4,0,5,7])\n",
    "spy_game([1,7,2,0,4,5,0]) "
   ]
  },
  {
   "cell_type": "code",
   "execution_count": 2,
   "metadata": {},
   "outputs": [
    {
     "name": "stdout",
     "output_type": "stream",
     "text": [
      "523.5987755982989\n"
     ]
    }
   ],
   "source": [
    "import math\n",
    "\n",
    "def sphere_volume(radius):\n",
    "    return (4/3) * math.pi * (radius**3)\n",
    "\n",
    "radius = 5\n",
    "print(sphere_volume(radius))\n"
   ]
  },
  {
   "cell_type": "code",
   "execution_count": 3,
   "metadata": {},
   "outputs": [
    {
     "name": "stdout",
     "output_type": "stream",
     "text": [
      "[1, 2, 3, 4, 5]\n"
     ]
    }
   ],
   "source": [
    "def unique_elements(lst):\n",
    "    res = []\n",
    "    for element in lst:\n",
    "        if element not in res:\n",
    "            res.append(element)\n",
    "    return res\n",
    "\n",
    "lst = [1, 2, 2, 3, 4, 4, 5]\n",
    "print(unique_elements(lst))\n"
   ]
  },
  {
   "cell_type": "code",
   "execution_count": 5,
   "metadata": {},
   "outputs": [
    {
     "name": "stdout",
     "output_type": "stream",
     "text": [
      "****\n",
      "*********\n",
      "*******\n"
     ]
    }
   ],
   "source": [
    "def histogram(lst):\n",
    "    for i in lst:\n",
    "        print('*' * i)\n",
    "\n",
    "histogram([4, 9, 7])"
   ]
  },
  {
   "cell_type": "code",
   "execution_count": 6,
   "metadata": {},
   "outputs": [
    {
     "name": "stdout",
     "output_type": "stream",
     "text": [
      "Hello! What is your name?\n",
      "Well, KBTU, I am thinking of a number between 1 and 20.\n",
      "Take a guess.\n",
      "Your guess is too high.\n",
      "Take a guess.\n",
      "Your guess is too high.\n",
      "Take a guess.\n",
      "Your guess is too high.\n",
      "Take a guess.\n",
      "Your guess is too low.\n",
      "Take a guess.\n",
      "Good job, KBTU! You guessed my number in 5 guesses!\n"
     ]
    }
   ],
   "source": [
    "import random\n",
    "\n",
    "def guess_the_number():\n",
    "    print(\"Hello! What is your name?\")\n",
    "    name = input()\n",
    "    print(f\"Well, {name}, I am thinking of a number between 1 and 20.\")\n",
    "    \n",
    "    number_to_guess = random.randint(1, 20)\n",
    "    guesses_taken = 0\n",
    "    \n",
    "    while True:\n",
    "        print(\"Take a guess.\")\n",
    "        guess = int(input())\n",
    "        guesses_taken += 1\n",
    "        \n",
    "        if guess < number_to_guess:\n",
    "            print(\"Your guess is too low.\")\n",
    "        elif guess > number_to_guess:\n",
    "            print(\"Your guess is too high.\")\n",
    "        else:\n",
    "            print(f\"Good job, {name}! You guessed my number in {guesses_taken} guesses!\")\n",
    "            break\n",
    "\n",
    "guess_the_number()\n"
   ]
  },
  {
   "cell_type": "code",
   "execution_count": 7,
   "metadata": {},
   "outputs": [
    {
     "name": "stdout",
     "output_type": "stream",
     "text": [
      "The volume of the sphere is: 523.5987755982989\n",
      "The list with unique elements is: [1, 2, 3, 4, 5]\n"
     ]
    }
   ],
   "source": [
    "import math\n",
    "\n",
    "def sphere_volume(radius):\n",
    "    return (4/3) * math.pi * (radius**3)\n",
    "\n",
    "def unique_elements(lst):\n",
    "    unique_lst = []\n",
    "    for element in lst:\n",
    "        if element not in unique_lst:\n",
    "            unique_lst.append(element)\n",
    "    return unique_lst\n",
    "\n",
    "if __name__ == \"__main__\":\n",
    "    # Using the sphere_volume function\n",
    "    radius = 5\n",
    "    print(f\"The volume of the sphere is: {sphere_volume(radius)}\")\n",
    "    \n",
    "    # Using the unique_elements function\n",
    "    lst = [1, 2, 2, 3, 4, 4, 5]\n",
    "    print(f\"The list with unique elements is: {unique_elements(lst)}\")\n"
   ]
  }
 ],
 "metadata": {
  "kernelspec": {
   "display_name": "Python 3",
   "language": "python",
   "name": "python3"
  },
  "language_info": {
   "codemirror_mode": {
    "name": "ipython",
    "version": 3
   },
   "file_extension": ".py",
   "mimetype": "text/x-python",
   "name": "python",
   "nbconvert_exporter": "python",
   "pygments_lexer": "ipython3",
   "version": "3.12.8"
  }
 },
 "nbformat": 4,
 "nbformat_minor": 2
}
