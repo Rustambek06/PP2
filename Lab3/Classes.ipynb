{
 "cells": [
  {
   "cell_type": "code",
   "execution_count": 3,
   "metadata": {},
   "outputs": [
    {
     "name": "stdout",
     "output_type": "stream",
     "text": [
      "HELLO\n"
     ]
    }
   ],
   "source": [
    "class myClass:\n",
    "    def __init__(self):\n",
    "        self.string = \"\"\n",
    "    def getString(self):\n",
    "        self.string = input()\n",
    "    def printString(self):\n",
    "        print(self.string.upper())\n",
    "\n",
    "my = myClass()\n",
    "my.getString()\n",
    "my.printString()"
   ]
  },
  {
   "cell_type": "code",
   "execution_count": 11,
   "metadata": {},
   "outputs": [
    {
     "name": "stdout",
     "output_type": "stream",
     "text": [
      "0\n",
      "16\n"
     ]
    }
   ],
   "source": [
    "class Shape:\n",
    "    def __init__(self):\n",
    "        self.area = 0\n",
    "    def Area(self):\n",
    "        print(self.area)\n",
    "    class Square:\n",
    "        def __init__(self, x, y):\n",
    "            self.length = x\n",
    "            self.width = y\n",
    "        def Area(self):\n",
    "            x = lambda x, y: x * y\n",
    "            self.area = x(self.length, self.width)\n",
    "            print(self.area)\n",
    "\n",
    "x = Shape()\n",
    "S = x.Square(4, 4)\n",
    "\n",
    "x.Area()\n",
    "S.Area()"
   ]
  },
  {
   "cell_type": "code",
   "execution_count": 30,
   "metadata": {},
   "outputs": [
    {
     "name": "stdout",
     "output_type": "stream",
     "text": [
      "40\n"
     ]
    }
   ],
   "source": [
    "class Shape:\n",
    "    def __init__(self):\n",
    "        self.area = 0\n",
    "    def Area(self):\n",
    "        print(self.area)\n",
    "\n",
    "class Square(Shape):\n",
    "    def __init__(self, x, y):\n",
    "        super().__init__()\n",
    "        self.length = x\n",
    "        self.width = y\n",
    "    def Area(self):\n",
    "        self.area = self.length * self.width\n",
    "        print(self.area)\n",
    "\n",
    "class Rectangle(Square):\n",
    "    def __init__(self, x, y):\n",
    "        super().__init__(x, y)\n",
    "\n",
    "x = Rectangle(10, 4)\n",
    "x.Area()\n"
   ]
  },
  {
   "cell_type": "code",
   "execution_count": 36,
   "metadata": {},
   "outputs": [
    {
     "name": "stdout",
     "output_type": "stream",
     "text": [
      "x: 1\ty: 1\n",
      "x: 3\ty: 6\n",
      "5.385164807134504\n",
      "x: 10\ty: 10\n",
      "12.727922061357855\n"
     ]
    }
   ],
   "source": [
    "import math\n",
    "\n",
    "class Point:\n",
    "    def __init__(self, x, y):\n",
    "        self.x = x\n",
    "        self.y = y\n",
    "    \n",
    "    def show(self) :\n",
    "        print(f\"x: {self.x}\\ty: {self.y}\")\n",
    "\n",
    "    def move(self, x, y):\n",
    "        self.x = x\n",
    "        self.y = y\n",
    "    \n",
    "    def dist(self, point):\n",
    "        return math.sqrt((self.x - point.x)**2 + (self.y - point.y)**2)\n",
    "    \n",
    "p1 = Point(1, 1)\n",
    "p2 = Point(3, 6)\n",
    "\n",
    "p1.show()\n",
    "p2.show()\n",
    "\n",
    "print(p1.dist(p2))\n",
    "\n",
    "p2.move(10, 10)\n",
    "p2.show()\n",
    "\n",
    "print(p1.dist(p2))\n"
   ]
  },
  {
   "cell_type": "code",
   "execution_count": 40,
   "metadata": {},
   "outputs": [
    {
     "name": "stdout",
     "output_type": "stream",
     "text": [
      "Mike, Balance: 5000\n",
      "Mike, Balance: 7000\n",
      "Mike, Balance: 1000\n",
      "Mike, Account can't be overdrawn: 1000\n",
      "Oliver, Balance: 500\n",
      "Oliver, Balance: 2500\n",
      "Oliver, Account can't be overdrawn: 2500\n",
      "Oliver, Balance: 1500\n"
     ]
    }
   ],
   "source": [
    "class Account:\n",
    "    def __init__(self, name):\n",
    "        self.onwer = name\n",
    "        self.balance = 0\n",
    "    \n",
    "    def deposit(self, value):\n",
    "        self.balance += value\n",
    "        print(f\"{self.onwer}, Balance: {self.balance}\")\n",
    "    \n",
    "    def withdrawl(self, value):\n",
    "        if (self.balance - value < 0):\n",
    "            print(f\"{self.onwer}, Account can't be overdrawn: {self.balance}\")\n",
    "        else:\n",
    "            self.balance -= value\n",
    "            print(f\"{self.onwer}, Balance: {self.balance}\")\n",
    "\n",
    "a1 = Account(\"Mike\")\n",
    "a1.deposit(5000)\n",
    "a1.deposit(2000)\n",
    "a1.withdrawl(6000)\n",
    "a1.withdrawl(2000)\n",
    "\n",
    "\n",
    "a1 = Account(\"Oliver\")\n",
    "a1.deposit(500)\n",
    "a1.deposit(2000)\n",
    "a1.withdrawl(2600)\n",
    "a1.withdrawl(1000)"
   ]
  },
  {
   "cell_type": "code",
   "execution_count": 46,
   "metadata": {},
   "outputs": [
    {
     "name": "stdout",
     "output_type": "stream",
     "text": [
      "Prime numbers: [2, 3, 5, 7, 11, 13, 17, 19, 23, 29, 31, 37, 41, 43, 47, 53, 59, 61, 67, 71, 73, 79, 83, 89, 97, 101, 103, 107, 109, 113, 127, 131, 137, 139, 149, 151, 157, 163, 167, 173, 179, 181, 191, 193, 197, 199, 211, 223, 227, 229, 233, 239, 241, 251, 257, 263, 269, 271, 277, 281, 283, 293, 307, 311, 313, 317, 331, 337, 347, 349, 353, 359, 367, 373, 379, 383, 389, 397, 401, 409, 419, 421, 431, 433, 439, 443, 449, 457, 461, 463, 467, 479, 487, 491, 499, 503, 509, 521, 523, 541, 547, 557, 563, 569, 571, 577, 587, 593, 599, 601, 607, 613, 617, 619, 631, 641, 643, 647, 653, 659, 661, 673, 677, 683, 691, 701, 709, 719, 727, 733, 739, 743, 751, 757, 761, 769, 773, 787, 797, 809, 811, 821, 823, 827, 829, 839, 853, 857, 859, 863, 877, 881, 883, 887, 907, 911, 919, 929, 937, 941, 947, 953, 967, 971, 977, 983, 991, 997]\n"
     ]
    }
   ],
   "source": [
    "def is_prime(n):\n",
    "    if n <= 1:\n",
    "        return False\n",
    "    for i in range(2, int(n**0.5) + 1):\n",
    "        if n % i == 0:\n",
    "            return False\n",
    "    return True\n",
    "\n",
    "numbers = [x for x in range(1, 1000)]\n",
    "\n",
    "prime_numbers = list(filter(lambda x: is_prime(x), numbers))\n",
    "\n",
    "print(\"Prime numbers:\", prime_numbers)"
   ]
  }
 ],
 "metadata": {
  "kernelspec": {
   "display_name": "Python 3",
   "language": "python",
   "name": "python3"
  },
  "language_info": {
   "codemirror_mode": {
    "name": "ipython",
    "version": 3
   },
   "file_extension": ".py",
   "mimetype": "text/x-python",
   "name": "python",
   "nbconvert_exporter": "python",
   "pygments_lexer": "ipython3",
   "version": "3.12.8"
  }
 },
 "nbformat": 4,
 "nbformat_minor": 2
}
