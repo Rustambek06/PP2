{
 "cells": [
  {
   "cell_type": "code",
   "execution_count": null,
   "metadata": {},
   "outputs": [],
   "source": [
    "import os \n",
    "   #Files and directories\n",
    "print( os.getcwd())  \n",
    "with os.scandir(os.getcwd()) as abc:\n",
    "    for i in abc: \n",
    "            print(i)\n",
    "   #Directories\n",
    "abc = [i.name for i in os.scandir(os.getcwd()) if i.is_dir()]\n",
    "for i in abc:\n",
    "    print(i)            \n",
    "    #Files\n",
    "with os.scandir(os.getcwd()) as abc:\n",
    "    for i in abc: \n",
    "        if not i.is_dir():\n",
    "            print(i.name)   "
   ]
  },
  {
   "cell_type": "code",
   "execution_count": null,
   "metadata": {},
   "outputs": [],
   "source": [
    "import os\n",
    "path = os.getcwd()\n",
    "if not os.path.exists(path):\n",
    "    print(\"Path does not exist.\")\n",
    "if os.access(path, os.R_OK):\n",
    "    print(\"readable.\")\n",
    "else:\n",
    "    print(\"not readable.\")\n",
    "if os.access(path, os.W_OK):\n",
    "    print(\"writable.\")\n",
    "else:\n",
    "    print(\"not writable.\")\n",
    "if os.access(path, os.X_OK):\n",
    "    print(\"executable.\")\n",
    "else:\n",
    "    print(\"not executable.\")"
   ]
  },
  {
   "cell_type": "code",
   "execution_count": 3,
   "metadata": {},
   "outputs": [
    {
     "name": "stdout",
     "output_type": "stream",
     "text": [
      "Lab6\n",
      "C:\\Users\\user\\Desktop\\Coding\\PP2\n"
     ]
    }
   ],
   "source": [
    "import os\n",
    "abc = r'C:\\Users\\user\\Desktop\\Coding\\PP2\\Lab6'\n",
    "if os.access(abc, os.F_OK):\n",
    "     print(os.path.basename(abc))\n",
    "     print(os.path.dirname(abc))\n",
    "else:\n",
    "     print(\"dont exists\")"
   ]
  },
  {
   "cell_type": "code",
   "execution_count": 18,
   "metadata": {},
   "outputs": [
    {
     "name": "stdout",
     "output_type": "stream",
     "text": [
      "Number of lines in Текстовый документ.txt: 46\n"
     ]
    }
   ],
   "source": [
    "import os\n",
    "path = r'C:/Users/user/Desktop/Coding/PP2/Lab6/Текстовый документ.txt'\n",
    "with open(path, 'r') as f:\n",
    "    lines = f.readlines()\n",
    "    print('Number of lines in {}: {}'.format(os.path.basename(path), len(lines)))"
   ]
  },
  {
   "cell_type": "code",
   "execution_count": null,
   "metadata": {},
   "outputs": [],
   "source": [
    "import os\n",
    "def abc(path, data):\n",
    "    with open(path, 'w') as file:\n",
    "        for item in data:\n",
    "            file.write(str(item))\n",
    "path = 'C:/Users/user/Desktop/Coding/PP2/Lab6/Текстовый документ1.txt'\n",
    "data = ['a', 'b', 'c', 'd']\n",
    "abc(path, data)"
   ]
  },
  {
   "cell_type": "code",
   "execution_count": null,
   "metadata": {},
   "outputs": [],
   "source": [
    "import os\n",
    "for i in range(ord('A'), ord('Z')+1):\n",
    "    name = chr(i) + \".txt\"\n",
    "    f = open(os.path.join(\"C:/Users/user/Desktop/Coding/PP2/Lab6\", name), 'w')\n",
    "   "
   ]
  },
  {
   "cell_type": "code",
   "execution_count": 22,
   "metadata": {},
   "outputs": [],
   "source": [
    "import os\n",
    "with open(\"C:/Users/user/Desktop/Coding/PP2/Lab6/Текстовый документ.txt\", 'r') as a:\n",
    "    with open(\"C:/Users/user/Desktop/Coding/PP2/Lab6/Текстовый документ1.txt\", 'w') as b:\n",
    "        b.write(a.read())"
   ]
  },
  {
   "cell_type": "code",
   "execution_count": null,
   "metadata": {},
   "outputs": [],
   "source": [
    "import os\n",
    "path = os.getcwd()\n",
    "if os.path.exists(\"C:/Users/user/Desktop/Coding/PP2/Lab6/Текстовый документ1.txt\"):\n",
    "  os.remove(\"C:/Users/user/Desktop/Coding/PP2/Lab6/Текстовый документ1.txt\")\n",
    "else:\n",
    "  print(\"The file does not exist\")"
   ]
  }
 ],
 "metadata": {
  "kernelspec": {
   "display_name": "Python 3",
   "language": "python",
   "name": "python3"
  },
  "language_info": {
   "codemirror_mode": {
    "name": "ipython",
    "version": 3
   },
   "file_extension": ".py",
   "mimetype": "text/x-python",
   "name": "python",
   "nbconvert_exporter": "python",
   "pygments_lexer": "ipython3",
   "version": "3.12.8"
  }
 },
 "nbformat": 4,
 "nbformat_minor": 2
}
