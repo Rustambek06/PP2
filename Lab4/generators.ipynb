{
 "cells": [
  {
   "cell_type": "code",
   "execution_count": 1,
   "metadata": {},
   "outputs": [
    {
     "name": "stdout",
     "output_type": "stream",
     "text": [
      "0\n",
      "1\n",
      "4\n",
      "9\n",
      "16\n"
     ]
    }
   ],
   "source": [
    "def abc(n):\n",
    "    for i in range(int(n)):\n",
    "        yield i**2\n",
    "n = input()\n",
    "Generator = abc(n)\n",
    "for i in Generator:\n",
    "    print(i)"
   ]
  },
  {
   "cell_type": "code",
   "execution_count": 2,
   "metadata": {},
   "outputs": [
    {
     "name": "stdout",
     "output_type": "stream",
     "text": [
      "0,2,4,6,"
     ]
    }
   ],
   "source": [
    "def abc(n):\n",
    "    for i in range(int(n)):\n",
    "        if (i % 2 == 0):\n",
    "            yield i\n",
    "n = input()\n",
    "generator = abc(n)\n",
    "for i in generator:\n",
    "    print(i, end=\",\")       "
   ]
  },
  {
   "cell_type": "code",
   "execution_count": 3,
   "metadata": {},
   "outputs": [
    {
     "name": "stdout",
     "output_type": "stream",
     "text": [
      "0\n",
      "3\n",
      "4\n",
      "6\n",
      "8\n",
      "9\n"
     ]
    }
   ],
   "source": [
    "def abc(n):\n",
    "    for i in range(int (n)):\n",
    "        if((i % 3) == 0)or((i % 4) == 0):\n",
    "            yield i\n",
    "n = input()\n",
    "generator = abc(n)\n",
    "for i in generator:\n",
    "    print(i)            "
   ]
  },
  {
   "cell_type": "code",
   "execution_count": 4,
   "metadata": {},
   "outputs": [
    {
     "name": "stdout",
     "output_type": "stream",
     "text": [
      "25\n",
      "36\n"
     ]
    }
   ],
   "source": [
    "def abc(n,m):\n",
    "    for i in range(int(n), int(m)):\n",
    "        yield i**2\n",
    "n = input()\n",
    "m = input()\n",
    "generator = abc(n,m)\n",
    "for i in generator:\n",
    "    print(i)      "
   ]
  },
  {
   "cell_type": "code",
   "execution_count": 5,
   "metadata": {},
   "outputs": [
    {
     "name": "stdout",
     "output_type": "stream",
     "text": [
      "4\n",
      "3\n",
      "2\n",
      "1\n",
      "0\n"
     ]
    }
   ],
   "source": [
    "def abc(n):\n",
    "    for i in reversed(range(int(n))):\n",
    "        yield i\n",
    "n = input()\n",
    "generator = abc(n)\n",
    "for i in generator:\n",
    "    print((i))        "
   ]
  }
 ],
 "metadata": {
  "kernelspec": {
   "display_name": "Python 3",
   "language": "python",
   "name": "python3"
  },
  "language_info": {
   "codemirror_mode": {
    "name": "ipython",
    "version": 3
   },
   "file_extension": ".py",
   "mimetype": "text/x-python",
   "name": "python",
   "nbconvert_exporter": "python",
   "pygments_lexer": "ipython3",
   "version": "3.12.8"
  }
 },
 "nbformat": 4,
 "nbformat_minor": 2
}
